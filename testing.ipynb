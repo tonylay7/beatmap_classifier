{
 "cells": [
  {
   "cell_type": "code",
   "execution_count": 2,
   "id": "ac0d6716",
   "metadata": {},
   "outputs": [
    {
     "name": "stdout",
     "output_type": "stream",
     "text": [
      "6.413247155083175\n"
     ]
    }
   ],
   "source": [
    "import numpy as np\n",
    "import os\n",
    "import glob\n",
    "import tensorflow as tf\n",
    "from slider import Beatmap\n",
    "\n",
    "\n",
    "\n",
    "DATA_DIRECTORY = \"beatmaps/\"\n",
    "\n",
    "themap = Beatmap.from_path('beatmaps/Bliitzit - Team Magma & Aqua Leader Battle Theme (Unofficial) (Sotarks) [Catastrophe].osu')\n",
    "print(themap.stars())\n"
   ]
  },
  {
   "cell_type": "code",
   "execution_count": 34,
   "id": "746a99f4",
   "metadata": {},
   "outputs": [],
   "source": [
    "def parse_hit_object(hit_object):\n",
    "    object_type = type(hit_object).__name__\n",
    "    time = hit_object.time.total_seconds()\n",
    "    if object_type == \"Circle\":\n",
    "        # [time posx posy]\n",
    "        return [0,time,hit_object.position.x, hit_object.position.y,0,0,0,0,0]\n",
    "    elif object_type == \"Slider\":\n",
    "         # [hitobject_type time posx posy end_time num_points_on_curve length ticks tick_rate]\n",
    "        return [1,time,hit_object.position.x,hit_object.position.y,hit_object.end_time.total_seconds(),len(hit_object.curve.points),hit_object.length,hit_object.ticks,hit_object.tick_rate]\n",
    "    else:\n",
    "        return [2,time,hit_object.position.x,hit_object.position.y,hit_object.end_time.total_seconds(),0,0,0,0]\n",
    "       \n",
    "def extend_data(training_data, max_objects):\n",
    "    for datum in training_data:\n",
    "        difference = len(datum[0]) - max_objects\n",
    "        if difference < 0:\n",
    "            for _ in range(0,abs(difference)):\n",
    "                datum[0].append([0]*9)\n",
    "    \n",
    "def create_training_data():\n",
    "    training_data = []\n",
    "    file_names = [os.path.basename(x) for x in glob.glob(\"beatmaps/*.osu\")]\n",
    "    max_objects = 0\n",
    "    for file_name in file_names:\n",
    "        path = DATA_DIRECTORY+file_name\n",
    "        beatmap = Beatmap.from_path(path)\n",
    "        label = beatmap.stars()\n",
    "        hit_objects = beatmap.hit_objects()\n",
    "        if len(hit_objects) > max_objects:\n",
    "            max_objects = len(hit_objects)\n",
    "        hit_object_data = []\n",
    "        for hit_object in hit_objects:\n",
    "            hit_object_data.append(parse_hit_object(hit_object))\n",
    "        training_data.append([hit_object_data,label])\n",
    "    extend_data(training_data, max_objects)\n",
    "    return training_data\n",
    "        \n",
    "training_data = create_training_data()\n"
   ]
  },
  {
   "cell_type": "code",
   "execution_count": 50,
   "id": "ee007440",
   "metadata": {},
   "outputs": [
    {
     "name": "stdout",
     "output_type": "stream",
     "text": [
      "39\n",
      "2223\n"
     ]
    }
   ],
   "source": [
    "print(len(training_data))\n",
    "print(len(training_data[0][0]))\n",
    "X = []\n",
    "y = []\n",
    "for data in training_data:\n",
    "    X.append(data[0])\n",
    "    y.append(data[1])\n",
    "\n",
    "\n",
    "X = np.array(X).reshape(-1, len(X),len(X[0]),1)\n",
    "normalised_data = tf.keras.utils.normalize(X,axis=1)"
   ]
  },
  {
   "cell_type": "code",
   "execution_count": null,
   "id": "5eedf593",
   "metadata": {},
   "outputs": [],
   "source": []
  }
 ],
 "metadata": {
  "kernelspec": {
   "display_name": "Python 3 (ipykernel)",
   "language": "python",
   "name": "python3"
  },
  "language_info": {
   "codemirror_mode": {
    "name": "ipython",
    "version": 3
   },
   "file_extension": ".py",
   "mimetype": "text/x-python",
   "name": "python",
   "nbconvert_exporter": "python",
   "pygments_lexer": "ipython3",
   "version": "3.10.5"
  }
 },
 "nbformat": 4,
 "nbformat_minor": 5
}
